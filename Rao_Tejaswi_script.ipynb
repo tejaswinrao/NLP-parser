{
 "cells": [
  {
   "cell_type": "code",
   "execution_count": 4,
   "metadata": {
    "colab": {
     "base_uri": "https://localhost:8080/"
    },
    "id": "6dXnKSx91B7z",
    "outputId": "70fa4836-8c1a-4c1f-e660-ca0e5bcd0010"
   },
   "outputs": [
    {
     "name": "stdout",
     "output_type": "stream",
     "text": [
      "Reading package lists... Done\n",
      "Building dependency tree       \n",
      "Reading state information... Done\n",
      "The following additional packages will be installed:\n",
      "  tesseract-ocr-eng tesseract-ocr-osd\n",
      "The following NEW packages will be installed:\n",
      "  tesseract-ocr tesseract-ocr-eng tesseract-ocr-osd\n",
      "0 upgraded, 3 newly installed, 0 to remove and 23 not upgraded.\n",
      "Need to get 4,850 kB of archives.\n",
      "After this operation, 16.3 MB of additional disk space will be used.\n",
      "Get:1 http://archive.ubuntu.com/ubuntu focal/universe amd64 tesseract-ocr-eng all 1:4.00~git30-7274cfa-1 [1,598 kB]\n",
      "Get:2 http://archive.ubuntu.com/ubuntu focal/universe amd64 tesseract-ocr-osd all 1:4.00~git30-7274cfa-1 [2,990 kB]\n",
      "Get:3 http://archive.ubuntu.com/ubuntu focal/universe amd64 tesseract-ocr amd64 4.1.1-2build2 [262 kB]\n",
      "Fetched 4,850 kB in 0s (9,781 kB/s)\n",
      "debconf: unable to initialize frontend: Dialog\n",
      "debconf: (No usable dialog-like program is installed, so the dialog based frontend cannot be used. at /usr/share/perl5/Debconf/FrontEnd/Dialog.pm line 76, <> line 3.)\n",
      "debconf: falling back to frontend: Readline\n",
      "debconf: unable to initialize frontend: Readline\n",
      "debconf: (This frontend requires a controlling tty.)\n",
      "debconf: falling back to frontend: Teletype\n",
      "dpkg-preconfigure: unable to re-open stdin: \n",
      "Selecting previously unselected package tesseract-ocr-eng.\n",
      "(Reading database ... 128285 files and directories currently installed.)\n",
      "Preparing to unpack .../tesseract-ocr-eng_1%3a4.00~git30-7274cfa-1_all.deb ...\n",
      "Unpacking tesseract-ocr-eng (1:4.00~git30-7274cfa-1) ...\n",
      "Selecting previously unselected package tesseract-ocr-osd.\n",
      "Preparing to unpack .../tesseract-ocr-osd_1%3a4.00~git30-7274cfa-1_all.deb ...\n",
      "Unpacking tesseract-ocr-osd (1:4.00~git30-7274cfa-1) ...\n",
      "Selecting previously unselected package tesseract-ocr.\n",
      "Preparing to unpack .../tesseract-ocr_4.1.1-2build2_amd64.deb ...\n",
      "Unpacking tesseract-ocr (4.1.1-2build2) ...\n",
      "Setting up tesseract-ocr-eng (1:4.00~git30-7274cfa-1) ...\n",
      "Setting up tesseract-ocr-osd (1:4.00~git30-7274cfa-1) ...\n",
      "Setting up tesseract-ocr (4.1.1-2build2) ...\n",
      "Processing triggers for man-db (2.9.1-1) ...\n",
      "Looking in indexes: https://pypi.org/simple, https://us-python.pkg.dev/colab-wheels/public/simple/\n",
      "Requirement already satisfied: pytesseract in /usr/local/lib/python3.9/dist-packages (0.3.10)\n",
      "Requirement already satisfied: Pillow>=8.0.0 in /usr/local/lib/python3.9/dist-packages (from pytesseract) (8.4.0)\n",
      "Requirement already satisfied: packaging>=21.3 in /usr/local/lib/python3.9/dist-packages (from pytesseract) (23.0)\n"
     ]
    }
   ],
   "source": [
    "!sudo apt install tesseract-ocr\n",
    "!pip install pytesseract"
   ]
  },
  {
   "cell_type": "code",
   "execution_count": 5,
   "metadata": {
    "colab": {
     "base_uri": "https://localhost:8080/"
    },
    "id": "GMd4bIJ50Htk",
    "outputId": "e61714c4-2fc1-4739-995c-24b6f53a2de0"
   },
   "outputs": [
    {
     "name": "stdout",
     "output_type": "stream",
     "text": [
      "{'testimage5': ['55213 iBT oo jac 690 00', '0810 20:12]. | na390 jour.', '13390 | Rr'], 'testimage4': ['11092020 [11092020 {11 11056 i L jA | 80.00) 4'], 'testimage2': [], 'testimage1': ['5964 | | a | saan lool 4', '2043, looaldam'], 'testimage3': ['110048 : i i 1 14 48 | 1.00']}\n"
     ]
    }
   ],
   "source": [
    "import os\n",
    "import json\n",
    "from PIL import Image\n",
    "import pytesseract\n",
    "import re\n",
    "\n",
    "# Set the path to the folder containing the images\n",
    "image_folder = '/content/images'\n",
    "\n",
    "# Set the pattern for the image filenames\n",
    "image_pattern = r'\\.jpeg$'\n",
    "\n",
    "# Only select the patters where the first 4 digits are numbers\n",
    "child_text_pattern = r'\\d{4}.*'\n",
    "\n",
    "# Initialize the dictionary to store the extracted values for each image\n",
    "output_dict = {}\n",
    "\n",
    "# Iterate through the images in the folder\n",
    "for filename in os.listdir(image_folder):\n",
    "    # Check if the filename matches the pattern for image files\n",
    "    if re.search(image_pattern, filename):\n",
    "        # Get the image name without the extension\n",
    "        image_name = os.path.splitext(filename)[0]\n",
    "        \n",
    "        # Load the JSON file corresponding to the image (I have kept both .jpeg and .json in the same folder)\n",
    "        json_path = os.path.join(image_folder, image_name + '.json')\n",
    "        with open(json_path, 'r') as f:\n",
    "            json_data = json.load(f)\n",
    "        \n",
    "        # Find the child text block\n",
    "        child_text_id = None\n",
    "        for block in json_data['Blocks']:\n",
    "            if 'childText' in block and block['childText'].strip():\n",
    "                child_text_id = block['Id']\n",
    "                break\n",
    "        \n",
    "        # Consider each blocks and get their measurements to extract text from that area\n",
    "        if child_text_id is not None:\n",
    "            child_text_bbox = None\n",
    "            for block in json_data['Blocks']:\n",
    "                if block['Id'] == child_text_id:\n",
    "                    child_text_bbox = block['Geometry']['BoundingBox']\n",
    "                    break\n",
    "            \n",
    "            if child_text_bbox is not None:\n",
    "                image_path = os.path.join(image_folder, filename)\n",
    "                image_width, image_height = Image.open(image_path).size\n",
    "                left = int(child_text_bbox['Left'] * image_width)\n",
    "                top = int(child_text_bbox['Top'] * image_height)\n",
    "                width = int(child_text_bbox['Width'] * image_width)\n",
    "                height = int(child_text_bbox['Height'] * image_height)\n",
    "                \n",
    "                image = Image.open(image_path)\n",
    "                child_text_image = image.crop((left, top, left + width, top + height))\n",
    "                \n",
    "                child_text = pytesseract.image_to_string(child_text_image)\n",
    "                child_text = child_text.strip()\n",
    "                \n",
    "                child_texts = re.findall(child_text_pattern, child_text)\n",
    "                \n",
    "                output_dict[image_name] = child_texts\n",
    "\n",
    "# Save the output dictionary to a JSON file\n",
    "print(output_dict)\n",
    "output_path = os.path.join(image_folder, 'Rao_Tejaswi_Results.json')\n",
    "with open(output_path, 'w') as f:\n",
    "    json.dump(output_dict, f, indent=4)\n"
   ]
  },
  {
   "cell_type": "markdown",
   "metadata": {},
   "source": [
    "#### Alternative approaches tried\n",
    "\n",
    "#### 1) Applied filters to reduce noise and improve contrast\n",
    "#### 2) Applied median blurring to remove noices from the image\n",
    "#### 2) Used OCRopus instead of tesseract to compare the results\n",
    "\n",
    "#### The obtained results are not up to the mark, as it works perfectly only for testimage4. I will dig deep and see if i can improve this"
   ]
  },
  {
   "cell_type": "code",
   "execution_count": null,
   "metadata": {},
   "outputs": [],
   "source": [
    "# The best output I arrived at was the below one after reducing the noise and improving the contrast, it seems to have \n",
    "# worsened the situation, so i opted against using it\n",
    "\n",
    "#  {\"testimage5.jpeg\": \n",
    "#  [[\"_\"], [\"aA ww & W NY\"], [\"08\"], [\"08\"], [\"08\"], [\"08\"], [\"oB8\"], [\"10\"], [\"10\"], [\"10\"], [\"10\"], [\"10\"], [\"10\"], \n",
    "#  [\"20\"], [\"20\"], [\"20\"], [\"38\"], [\"98\"], [\"98\"], [\"98\"], [\"08\"], [\"oe\"], [\"22\"], [\"10\"], [\"10\"], [\"10\"], [\"10\"], \n",
    "#  [\"10\"], [\"20\"], [\"20\"], [\"12\"], [\"12\"], [\"ASS13\"], [\"assco\"], [\"ASS13\"], [\"L3390\"], [\"13399\"], [\"LT\"], [\"LT\"], [\"ac\"], \n",
    "#  [\"ac\"], [\"aBC\"], [\"ABC\"], [\"ABC\"], [\"9c\"], [\"690\"], [\"90\"], [\"690\"], [\"60\"], [\"60\"], [\"co\"], [\"00 3\"], [\"oo\"], [\"C9\"], \n",
    "#  [\"09\"], [\"0\\u00b0\"]],\n",
    "# \"testimage3.jpeg\": [], \n",
    "# \"testimage1.jpeg\": [[\"i a\"], [\"ns\"], [\"aA tL ADILE\"]], \n",
    "# \"testimage2.jpeg\": [[\"4-\\u2014-\\u2014\\u2014-\\u2014 \\u2014\"], [\"j\\u2014 i\"], [\"ST TTT TT eT\"], [\"6 ae\"]], \n",
    "# \"testimage4.jpeg\": [[\"a\"], [\"fT\"]]}"
   ]
  }
 ],
 "metadata": {
  "colab": {
   "provenance": []
  },
  "kernelspec": {
   "display_name": "Python 3 (ipykernel)",
   "language": "python",
   "name": "python3"
  },
  "language_info": {
   "codemirror_mode": {
    "name": "ipython",
    "version": 3
   },
   "file_extension": ".py",
   "mimetype": "text/x-python",
   "name": "python",
   "nbconvert_exporter": "python",
   "pygments_lexer": "ipython3",
   "version": "3.8.5"
  }
 },
 "nbformat": 4,
 "nbformat_minor": 1
}
